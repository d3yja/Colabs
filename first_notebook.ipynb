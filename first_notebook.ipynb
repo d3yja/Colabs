{
  "nbformat": 4,
  "nbformat_minor": 0,
  "metadata": {
    "colab": {
      "provenance": [],
      "authorship_tag": "ABX9TyNklz6HYk0FzrJCY2JzRji+"
    },
    "kernelspec": {
      "name": "python3",
      "display_name": "Python 3"
    },
    "language_info": {
      "name": "python"
    }
  },
  "cells": [
    {
      "cell_type": "code",
      "execution_count": null,
      "metadata": {
        "id": "SeQDe_ZLxYC0"
      },
      "outputs": [],
      "source": [
        "sffsdfsdfsdfsfd"
      ]
    }
  ]
}